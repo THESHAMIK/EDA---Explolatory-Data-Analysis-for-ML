{
  "nbformat": 4,
  "nbformat_minor": 0,
  "metadata": {
    "colab": {
      "name": "KHDS_Deep_Keras+ScikitLearn_9.ipynb",
      "provenance": [],
      "authorship_tag": "ABX9TyPCxPvbA4eNW+F7vjA62Q45",
      "include_colab_link": true
    },
    "kernelspec": {
      "name": "python3",
      "display_name": "Python 3"
    },
    "language_info": {
      "name": "python"
    }
  },
  "cells": [
    {
      "cell_type": "markdown",
      "metadata": {
        "id": "view-in-github",
        "colab_type": "text"
      },
      "source": [
        "<a href=\"https://colab.research.google.com/github/THESHAMIK/EDA---Explolatory-Data-Analysis-for-ML/blob/main/Deep_NN/KHDS_Deep_Keras%2BScikitLearn_9.ipynb\" target=\"_parent\"><img src=\"https://colab.research.google.com/assets/colab-badge.svg\" alt=\"Open In Colab\"/></a>"
      ]
    },
    {
      "cell_type": "markdown",
      "source": [
        "Regression Tutorial for KHDS with the **Keras Deep Learning** Library in Python with blend of Scikit-learn. scikit-learn excels at evaluating models so this blend is used.\n",
        "\n",
        "Keras is a deep learning library that wraps the efficient numerical libraries Theano and TensorFlow. \n",
        "\n",
        "Here we will learn ::\n",
        "\n",
        "How to use **scikit-learn with Keras** to evaluate models using cross-validation.\n",
        "How to perform **data preparation** in order to improve skill with Keras models.\n",
        "How to **tune the network **topology of models with Keras.\n",
        "\n",
        "We can **create Keras models** and **evaluate them with scikit-learn** by using handy **wrapper** objects provided by the Keras library. \n",
        "\n",
        "This is desirable, because **scikit-learn excels at evaluating models** and will allow us to use powerful data preparation and model evaluation schemes with very few lines of code.\n",
        "\n",
        "REFERENCE ::: Keras_TF_Ski_1.ipynb\n",
        "#Regression Problem solved with the Keras Deep Learning + SKLearn Library in Python\n",
        "#https://machinelearningmastery.com/regression-tutorial-keras-deep-learning-library-python/\n",
        "#Here basic model used, then input data SCALED, then TUNNED version for both DEEPER & WIDER layers used to get better result."
      ],
      "metadata": {
        "id": "i1yGw7O7Wlvs"
      }
    },
    {
      "cell_type": "code",
      "execution_count": null,
      "metadata": {
        "id": "aRKSzUYfWlOh"
      },
      "outputs": [],
      "source": [
        "import pandas as pd\n",
        "from keras.models import Sequential\n",
        "from keras.layers import Dense\n",
        "from keras.wrappers.scikit_learn import KerasRegressor\n",
        "from sklearn.model_selection import cross_val_score\n",
        "from sklearn.model_selection import KFold\n",
        "from sklearn.preprocessing import StandardScaler\n",
        "from sklearn.pipeline import Pipeline"
      ]
    },
    {
      "cell_type": "code",
      "source": [
        "df = pd.read_csv(\"khds_final_1.csv\")"
      ],
      "metadata": {
        "id": "z3kbmbyIW0v5"
      },
      "execution_count": null,
      "outputs": []
    },
    {
      "cell_type": "code",
      "source": [
        "#U can see last column Product Sulpur(Y) is an object & not Float\n",
        "#data['Product Sulphur']=data['Product Sulphur'].astype(float64) ##==> # This is NOT working\n",
        "df['Product Sulphur'] = pd.to_numeric(df['Product Sulphur'],errors = 'coerce') ##==> This one works as pd.to_numeric works for convert a list, a series, an array, or a tuple to a numeric datatype\n",
        "#type(data['Product Sulphur']) ##This shows that Product Sulphur data type is a series hence astype did not work\n",
        "df.dtypes\n",
        "df.info()"
      ],
      "metadata": {
        "colab": {
          "base_uri": "https://localhost:8080/"
        },
        "id": "kl_bWh9bW5uY",
        "outputId": "ab2b3fda-3846-4c3b-aa17-2f73d866707f"
      },
      "execution_count": null,
      "outputs": [
        {
          "output_type": "stream",
          "name": "stdout",
          "text": [
            "<class 'pandas.core.frame.DataFrame'>\n",
            "RangeIndex: 711 entries, 0 to 710\n",
            "Data columns (total 34 columns):\n",
            " #   Column                                     Non-Null Count  Dtype  \n",
            "---  ------                                     --------------  -----  \n",
            " 0   LABfeed Sulphur                            711 non-null    float64\n",
            " 1   T1 : FRESH FEED FLOW TO KHDS KGPerHour     711 non-null    float64\n",
            " 2   T1 : Reactor inlet temperature DEGC        711 non-null    float64\n",
            " 3   T1 : Hydrogen make-up flow NM3perHour      711 non-null    float64\n",
            " 4   T1 : Recycle hydrogen flow NM3perHour      711 non-null    float64\n",
            " 5   T1 : REACTOR OUTLET Temp DEGC              711 non-null    float64\n",
            " 6   T1 : REACTOR FEED INLET Pressure KGperCM2  711 non-null    float64\n",
            " 7   T1 : Cold separator pressure KGperCM2      711 non-null    float64\n",
            " 8   T1 : KERO FEED DENSITY KGperCM2            711 non-null    float64\n",
            " 9   T2 : FRESH FEED FLOW TO KHDS KGPerHour     711 non-null    float64\n",
            " 10  T2 : Reactor inlet temperature DEGC        711 non-null    float64\n",
            " 11  T2 : Hydrogen make-up flow NM3perHour      711 non-null    float64\n",
            " 12  T2 : Recycle hydrogen flow NM3perHour      711 non-null    float64\n",
            " 13  T2 : REACTOR OUTLET Temp DEGC              711 non-null    float64\n",
            " 14  T2 : REACTOR FEED INLET Pressure KGperCM2  711 non-null    float64\n",
            " 15  T2 : Cold separator pressure KGperCM2      711 non-null    float64\n",
            " 16  T2 : KERO FEED DENSITY KGperCM2            711 non-null    float64\n",
            " 17  T3 : FRESH FEED FLOW TO KHDS KGPerHour     711 non-null    float64\n",
            " 18  T3 : Reactor inlet temperature DEGC        711 non-null    float64\n",
            " 19  T3 : Hydrogen make-up flow NM3perHour      711 non-null    float64\n",
            " 20  T3 : Recycle hydrogen flow NM3perHour      711 non-null    float64\n",
            " 21  T3 : REACTOR OUTLET Temp DEGC              711 non-null    float64\n",
            " 22  T3 : REACTOR FEED INLET Pressure KGperCM2  711 non-null    float64\n",
            " 23  T3 : Cold separator pressure KGperCM2      711 non-null    float64\n",
            " 24  T3 : KERO FEED DENSITY KGperCM2            711 non-null    float64\n",
            " 25  T4 : FRESH FEED FLOW TO KHDS KGPerHour     711 non-null    float64\n",
            " 26  T4 : Reactor inlet temperature DEGC        711 non-null    float64\n",
            " 27  T4 : Hydrogen make-up flow NM3perHour      711 non-null    float64\n",
            " 28  T4 : Recycle hydrogen flow NM3perHour      711 non-null    float64\n",
            " 29  T4 : REACTOR OUTLET Temp DEGC              711 non-null    float64\n",
            " 30  T4 : REACTOR FEED INLET Pressure KGperCM2  711 non-null    float64\n",
            " 31  T4 : Cold separator pressure KGperCM2      711 non-null    float64\n",
            " 32  T4 : KERO FEED DENSITY KGperCM2            711 non-null    float64\n",
            " 33  Product Sulphur                            709 non-null    float64\n",
            "dtypes: float64(34)\n",
            "memory usage: 189.0 KB\n"
          ]
        }
      ]
    },
    {
      "cell_type": "markdown",
      "source": [
        "The missing data in Last_Name is represented as None and the missing data in Age is represented as NaN, Not a Number. This is because pandas handles the missing values in numeric as NaN and other objects as None. Don’t worry, pandas deals with both of them as missing values"
      ],
      "metadata": {
        "id": "iyjprzcDgG-J"
      }
    },
    {
      "cell_type": "code",
      "source": [
        "filtered_df = df[df['Product Sulphur'].notnull()]"
      ],
      "metadata": {
        "id": "70CL_WSdgiQ_"
      },
      "execution_count": null,
      "outputs": []
    },
    {
      "cell_type": "markdown",
      "source": [
        "Forced to use filtered_df as df.dropna() was NOT working below. My aim is to remove NULL values in Product Sulphur col as below baseline mean was coming as 0. This happens when there is any null value in any column.\n",
        "So Keras dont remove them U have to.\n",
        "\n",
        "sklearn.model_selection import cross_val_score dont handle NULL values well. One has to do this manually."
      ],
      "metadata": {
        "id": "1_6TVcZukyeU"
      }
    },
    {
      "cell_type": "code",
      "source": [
        "df.dropna(axis=0)"
      ],
      "metadata": {
        "colab": {
          "base_uri": "https://localhost:8080/",
          "height": 548
        },
        "id": "BdQuLiwKd4RE",
        "outputId": "ed91c6fa-3d9c-4fe7-de5a-2041f72eecaa"
      },
      "execution_count": null,
      "outputs": [
        {
          "output_type": "execute_result",
          "data": {
            "text/plain": [
              "     LABfeed Sulphur  T1 : FRESH FEED FLOW TO KHDS KGPerHour  \\\n",
              "0             1000.0                             72482.43948   \n",
              "1             1400.0                             75588.69117   \n",
              "2             1300.0                             75675.29792   \n",
              "3             1500.0                             46269.02109   \n",
              "4             1400.0                             45394.43555   \n",
              "..               ...                                     ...   \n",
              "706           1100.0                             60139.03926   \n",
              "707           1200.0                             60362.18822   \n",
              "708           1200.0                             60425.38188   \n",
              "709           1300.0                             64871.35271   \n",
              "710           1200.0                             75681.51297   \n",
              "\n",
              "     T1 : Reactor inlet temperature DEGC  \\\n",
              "0                             288.485914   \n",
              "1                             286.406314   \n",
              "2                             284.035734   \n",
              "3                             276.210773   \n",
              "4                             276.126803   \n",
              "..                                   ...   \n",
              "706                           269.888446   \n",
              "707                           269.971474   \n",
              "708                           270.062989   \n",
              "709                           270.130087   \n",
              "710                           270.060472   \n",
              "\n",
              "     T1 : Hydrogen make-up flow NM3perHour  \\\n",
              "0                               685.146132   \n",
              "1                               571.248477   \n",
              "2                               564.716667   \n",
              "3                               371.162782   \n",
              "4                               296.835800   \n",
              "..                                     ...   \n",
              "706                             511.399785   \n",
              "707                             558.111740   \n",
              "708                             528.413451   \n",
              "709                             561.401982   \n",
              "710                             558.725180   \n",
              "\n",
              "     T1 : Recycle hydrogen flow NM3perHour  T1 : REACTOR OUTLET Temp DEGC  \\\n",
              "0                              11114.58673                     288.637635   \n",
              "1                              11259.14433                     286.921575   \n",
              "2                              10668.45313                     284.140627   \n",
              "3                              14497.57829                     276.808471   \n",
              "4                              14606.11231                     276.776767   \n",
              "..                                     ...                            ...   \n",
              "706                            12541.86891                     271.360266   \n",
              "707                            12542.77303                     272.554566   \n",
              "708                            12517.83553                     272.306049   \n",
              "709                            12287.34497                     272.229078   \n",
              "710                            15276.91775                     271.317535   \n",
              "\n",
              "     T1 : REACTOR FEED INLET Pressure KGperCM2  \\\n",
              "0                                    21.927602   \n",
              "1                                    21.911739   \n",
              "2                                    21.900282   \n",
              "3                                    21.747162   \n",
              "4                                    21.560785   \n",
              "..                                         ...   \n",
              "706                                  21.023166   \n",
              "707                                  21.018436   \n",
              "708                                  21.014648   \n",
              "709                                  21.142253   \n",
              "710                                  22.077146   \n",
              "\n",
              "     T1 : Cold separator pressure KGperCM2  T1 : KERO FEED DENSITY KGperCM2  \\\n",
              "0                                18.775248                         0.000000   \n",
              "1                                18.702087                         0.000000   \n",
              "2                                18.734029                         0.000000   \n",
              "3                                19.528809                         0.000000   \n",
              "4                                19.492783                         0.000000   \n",
              "..                                     ...                              ...   \n",
              "706                              18.624649                       694.466242   \n",
              "707                              18.601252                       697.014856   \n",
              "708                              18.605937                       693.293790   \n",
              "709                              18.609416                       697.181100   \n",
              "710                              18.619949                       711.038150   \n",
              "\n",
              "     T2 : FRESH FEED FLOW TO KHDS KGPerHour  ...  \\\n",
              "0                               72337.37151  ...   \n",
              "1                               75746.39266  ...   \n",
              "2                               75628.86875  ...   \n",
              "3                               46001.59297  ...   \n",
              "4                               45231.54465  ...   \n",
              "..                                      ...  ...   \n",
              "706                             59989.55111  ...   \n",
              "707                             60543.49408  ...   \n",
              "708                             60522.48813  ...   \n",
              "709                             66726.60260  ...   \n",
              "710                             75932.53164  ...   \n",
              "\n",
              "     T3 : KERO FEED DENSITY KGperCM2  T4 : FRESH FEED FLOW TO KHDS KGPerHour  \\\n",
              "0                           0.000000                             72353.77432   \n",
              "1                           0.000000                             75918.19844   \n",
              "2                           0.000000                             76002.57969   \n",
              "3                           0.000000                             46176.64115   \n",
              "4                           0.000000                             45265.78914   \n",
              "..                               ...                                     ...   \n",
              "706                       695.525236                             60417.56009   \n",
              "707                       696.144514                             60372.60352   \n",
              "708                       693.736376                             60353.13302   \n",
              "709                       697.110177                             69193.52375   \n",
              "710                       710.682523                             75555.75766   \n",
              "\n",
              "     T4 : Reactor inlet temperature DEGC  \\\n",
              "0                             287.978641   \n",
              "1                             287.134693   \n",
              "2                             284.800492   \n",
              "3                             275.822623   \n",
              "4                             276.090728   \n",
              "..                                   ...   \n",
              "706                           270.061212   \n",
              "707                           270.042269   \n",
              "708                           270.083814   \n",
              "709                           269.897449   \n",
              "710                           270.219450   \n",
              "\n",
              "     T4 : Hydrogen make-up flow NM3perHour  \\\n",
              "0                               614.163076   \n",
              "1                               464.921691   \n",
              "2                               580.681543   \n",
              "3                               565.165267   \n",
              "4                               409.074912   \n",
              "..                                     ...   \n",
              "706                             581.807254   \n",
              "707                             501.625794   \n",
              "708                             536.398630   \n",
              "709                             575.264706   \n",
              "710                             563.059551   \n",
              "\n",
              "     T4 : Recycle hydrogen flow NM3perHour  T4 : REACTOR OUTLET Temp DEGC  \\\n",
              "0                              11226.93106                     288.712160   \n",
              "1                              11066.97566                     286.615329   \n",
              "2                              10701.71289                     284.840621   \n",
              "3                              14783.88027                     276.540142   \n",
              "4                              14675.20297                     277.132889   \n",
              "..                                     ...                            ...   \n",
              "706                            12470.92394                     272.810638   \n",
              "707                            12590.90794                     272.603820   \n",
              "708                            12618.29635                     272.570469   \n",
              "709                            12380.30654                     272.226493   \n",
              "710                            15331.67330                     270.990628   \n",
              "\n",
              "     T4 : REACTOR FEED INLET Pressure KGperCM2  \\\n",
              "0                                    21.805388   \n",
              "1                                    21.934672   \n",
              "2                                    21.848295   \n",
              "3                                    21.547435   \n",
              "4                                    21.597432   \n",
              "..                                         ...   \n",
              "706                                  20.995547   \n",
              "707                                  21.103575   \n",
              "708                                  21.040742   \n",
              "709                                  21.223976   \n",
              "710                                  22.069995   \n",
              "\n",
              "     T4 : Cold separator pressure KGperCM2  T4 : KERO FEED DENSITY KGperCM2  \\\n",
              "0                                18.666758                         0.000000   \n",
              "1                                18.747208                         0.000000   \n",
              "2                                18.704427                         0.000000   \n",
              "3                                19.357554                         0.000000   \n",
              "4                                19.496689                         0.000000   \n",
              "..                                     ...                              ...   \n",
              "706                              18.596115                       694.614817   \n",
              "707                              18.656947                       696.279553   \n",
              "708                              18.611755                       693.730737   \n",
              "709                              18.602946                       698.950006   \n",
              "710                              18.590591                       710.725383   \n",
              "\n",
              "     Product Sulphur  \n",
              "0                2.0  \n",
              "1                0.5  \n",
              "2                3.0  \n",
              "3                4.0  \n",
              "4                3.0  \n",
              "..               ...  \n",
              "706             19.0  \n",
              "707             20.0  \n",
              "708             25.0  \n",
              "709             28.0  \n",
              "710             19.0  \n",
              "\n",
              "[709 rows x 34 columns]"
            ],
            "text/html": [
              "\n",
              "  <div id=\"df-c03c113a-c567-4aed-85e7-ae85f2a3c188\">\n",
              "    <div class=\"colab-df-container\">\n",
              "      <div>\n",
              "<style scoped>\n",
              "    .dataframe tbody tr th:only-of-type {\n",
              "        vertical-align: middle;\n",
              "    }\n",
              "\n",
              "    .dataframe tbody tr th {\n",
              "        vertical-align: top;\n",
              "    }\n",
              "\n",
              "    .dataframe thead th {\n",
              "        text-align: right;\n",
              "    }\n",
              "</style>\n",
              "<table border=\"1\" class=\"dataframe\">\n",
              "  <thead>\n",
              "    <tr style=\"text-align: right;\">\n",
              "      <th></th>\n",
              "      <th>LABfeed Sulphur</th>\n",
              "      <th>T1 : FRESH FEED FLOW TO KHDS KGPerHour</th>\n",
              "      <th>T1 : Reactor inlet temperature DEGC</th>\n",
              "      <th>T1 : Hydrogen make-up flow NM3perHour</th>\n",
              "      <th>T1 : Recycle hydrogen flow NM3perHour</th>\n",
              "      <th>T1 : REACTOR OUTLET Temp DEGC</th>\n",
              "      <th>T1 : REACTOR FEED INLET Pressure KGperCM2</th>\n",
              "      <th>T1 : Cold separator pressure KGperCM2</th>\n",
              "      <th>T1 : KERO FEED DENSITY KGperCM2</th>\n",
              "      <th>T2 : FRESH FEED FLOW TO KHDS KGPerHour</th>\n",
              "      <th>...</th>\n",
              "      <th>T3 : KERO FEED DENSITY KGperCM2</th>\n",
              "      <th>T4 : FRESH FEED FLOW TO KHDS KGPerHour</th>\n",
              "      <th>T4 : Reactor inlet temperature DEGC</th>\n",
              "      <th>T4 : Hydrogen make-up flow NM3perHour</th>\n",
              "      <th>T4 : Recycle hydrogen flow NM3perHour</th>\n",
              "      <th>T4 : REACTOR OUTLET Temp DEGC</th>\n",
              "      <th>T4 : REACTOR FEED INLET Pressure KGperCM2</th>\n",
              "      <th>T4 : Cold separator pressure KGperCM2</th>\n",
              "      <th>T4 : KERO FEED DENSITY KGperCM2</th>\n",
              "      <th>Product Sulphur</th>\n",
              "    </tr>\n",
              "  </thead>\n",
              "  <tbody>\n",
              "    <tr>\n",
              "      <th>0</th>\n",
              "      <td>1000.0</td>\n",
              "      <td>72482.43948</td>\n",
              "      <td>288.485914</td>\n",
              "      <td>685.146132</td>\n",
              "      <td>11114.58673</td>\n",
              "      <td>288.637635</td>\n",
              "      <td>21.927602</td>\n",
              "      <td>18.775248</td>\n",
              "      <td>0.000000</td>\n",
              "      <td>72337.37151</td>\n",
              "      <td>...</td>\n",
              "      <td>0.000000</td>\n",
              "      <td>72353.77432</td>\n",
              "      <td>287.978641</td>\n",
              "      <td>614.163076</td>\n",
              "      <td>11226.93106</td>\n",
              "      <td>288.712160</td>\n",
              "      <td>21.805388</td>\n",
              "      <td>18.666758</td>\n",
              "      <td>0.000000</td>\n",
              "      <td>2.0</td>\n",
              "    </tr>\n",
              "    <tr>\n",
              "      <th>1</th>\n",
              "      <td>1400.0</td>\n",
              "      <td>75588.69117</td>\n",
              "      <td>286.406314</td>\n",
              "      <td>571.248477</td>\n",
              "      <td>11259.14433</td>\n",
              "      <td>286.921575</td>\n",
              "      <td>21.911739</td>\n",
              "      <td>18.702087</td>\n",
              "      <td>0.000000</td>\n",
              "      <td>75746.39266</td>\n",
              "      <td>...</td>\n",
              "      <td>0.000000</td>\n",
              "      <td>75918.19844</td>\n",
              "      <td>287.134693</td>\n",
              "      <td>464.921691</td>\n",
              "      <td>11066.97566</td>\n",
              "      <td>286.615329</td>\n",
              "      <td>21.934672</td>\n",
              "      <td>18.747208</td>\n",
              "      <td>0.000000</td>\n",
              "      <td>0.5</td>\n",
              "    </tr>\n",
              "    <tr>\n",
              "      <th>2</th>\n",
              "      <td>1300.0</td>\n",
              "      <td>75675.29792</td>\n",
              "      <td>284.035734</td>\n",
              "      <td>564.716667</td>\n",
              "      <td>10668.45313</td>\n",
              "      <td>284.140627</td>\n",
              "      <td>21.900282</td>\n",
              "      <td>18.734029</td>\n",
              "      <td>0.000000</td>\n",
              "      <td>75628.86875</td>\n",
              "      <td>...</td>\n",
              "      <td>0.000000</td>\n",
              "      <td>76002.57969</td>\n",
              "      <td>284.800492</td>\n",
              "      <td>580.681543</td>\n",
              "      <td>10701.71289</td>\n",
              "      <td>284.840621</td>\n",
              "      <td>21.848295</td>\n",
              "      <td>18.704427</td>\n",
              "      <td>0.000000</td>\n",
              "      <td>3.0</td>\n",
              "    </tr>\n",
              "    <tr>\n",
              "      <th>3</th>\n",
              "      <td>1500.0</td>\n",
              "      <td>46269.02109</td>\n",
              "      <td>276.210773</td>\n",
              "      <td>371.162782</td>\n",
              "      <td>14497.57829</td>\n",
              "      <td>276.808471</td>\n",
              "      <td>21.747162</td>\n",
              "      <td>19.528809</td>\n",
              "      <td>0.000000</td>\n",
              "      <td>46001.59297</td>\n",
              "      <td>...</td>\n",
              "      <td>0.000000</td>\n",
              "      <td>46176.64115</td>\n",
              "      <td>275.822623</td>\n",
              "      <td>565.165267</td>\n",
              "      <td>14783.88027</td>\n",
              "      <td>276.540142</td>\n",
              "      <td>21.547435</td>\n",
              "      <td>19.357554</td>\n",
              "      <td>0.000000</td>\n",
              "      <td>4.0</td>\n",
              "    </tr>\n",
              "    <tr>\n",
              "      <th>4</th>\n",
              "      <td>1400.0</td>\n",
              "      <td>45394.43555</td>\n",
              "      <td>276.126803</td>\n",
              "      <td>296.835800</td>\n",
              "      <td>14606.11231</td>\n",
              "      <td>276.776767</td>\n",
              "      <td>21.560785</td>\n",
              "      <td>19.492783</td>\n",
              "      <td>0.000000</td>\n",
              "      <td>45231.54465</td>\n",
              "      <td>...</td>\n",
              "      <td>0.000000</td>\n",
              "      <td>45265.78914</td>\n",
              "      <td>276.090728</td>\n",
              "      <td>409.074912</td>\n",
              "      <td>14675.20297</td>\n",
              "      <td>277.132889</td>\n",
              "      <td>21.597432</td>\n",
              "      <td>19.496689</td>\n",
              "      <td>0.000000</td>\n",
              "      <td>3.0</td>\n",
              "    </tr>\n",
              "    <tr>\n",
              "      <th>...</th>\n",
              "      <td>...</td>\n",
              "      <td>...</td>\n",
              "      <td>...</td>\n",
              "      <td>...</td>\n",
              "      <td>...</td>\n",
              "      <td>...</td>\n",
              "      <td>...</td>\n",
              "      <td>...</td>\n",
              "      <td>...</td>\n",
              "      <td>...</td>\n",
              "      <td>...</td>\n",
              "      <td>...</td>\n",
              "      <td>...</td>\n",
              "      <td>...</td>\n",
              "      <td>...</td>\n",
              "      <td>...</td>\n",
              "      <td>...</td>\n",
              "      <td>...</td>\n",
              "      <td>...</td>\n",
              "      <td>...</td>\n",
              "      <td>...</td>\n",
              "    </tr>\n",
              "    <tr>\n",
              "      <th>706</th>\n",
              "      <td>1100.0</td>\n",
              "      <td>60139.03926</td>\n",
              "      <td>269.888446</td>\n",
              "      <td>511.399785</td>\n",
              "      <td>12541.86891</td>\n",
              "      <td>271.360266</td>\n",
              "      <td>21.023166</td>\n",
              "      <td>18.624649</td>\n",
              "      <td>694.466242</td>\n",
              "      <td>59989.55111</td>\n",
              "      <td>...</td>\n",
              "      <td>695.525236</td>\n",
              "      <td>60417.56009</td>\n",
              "      <td>270.061212</td>\n",
              "      <td>581.807254</td>\n",
              "      <td>12470.92394</td>\n",
              "      <td>272.810638</td>\n",
              "      <td>20.995547</td>\n",
              "      <td>18.596115</td>\n",
              "      <td>694.614817</td>\n",
              "      <td>19.0</td>\n",
              "    </tr>\n",
              "    <tr>\n",
              "      <th>707</th>\n",
              "      <td>1200.0</td>\n",
              "      <td>60362.18822</td>\n",
              "      <td>269.971474</td>\n",
              "      <td>558.111740</td>\n",
              "      <td>12542.77303</td>\n",
              "      <td>272.554566</td>\n",
              "      <td>21.018436</td>\n",
              "      <td>18.601252</td>\n",
              "      <td>697.014856</td>\n",
              "      <td>60543.49408</td>\n",
              "      <td>...</td>\n",
              "      <td>696.144514</td>\n",
              "      <td>60372.60352</td>\n",
              "      <td>270.042269</td>\n",
              "      <td>501.625794</td>\n",
              "      <td>12590.90794</td>\n",
              "      <td>272.603820</td>\n",
              "      <td>21.103575</td>\n",
              "      <td>18.656947</td>\n",
              "      <td>696.279553</td>\n",
              "      <td>20.0</td>\n",
              "    </tr>\n",
              "    <tr>\n",
              "      <th>708</th>\n",
              "      <td>1200.0</td>\n",
              "      <td>60425.38188</td>\n",
              "      <td>270.062989</td>\n",
              "      <td>528.413451</td>\n",
              "      <td>12517.83553</td>\n",
              "      <td>272.306049</td>\n",
              "      <td>21.014648</td>\n",
              "      <td>18.605937</td>\n",
              "      <td>693.293790</td>\n",
              "      <td>60522.48813</td>\n",
              "      <td>...</td>\n",
              "      <td>693.736376</td>\n",
              "      <td>60353.13302</td>\n",
              "      <td>270.083814</td>\n",
              "      <td>536.398630</td>\n",
              "      <td>12618.29635</td>\n",
              "      <td>272.570469</td>\n",
              "      <td>21.040742</td>\n",
              "      <td>18.611755</td>\n",
              "      <td>693.730737</td>\n",
              "      <td>25.0</td>\n",
              "    </tr>\n",
              "    <tr>\n",
              "      <th>709</th>\n",
              "      <td>1300.0</td>\n",
              "      <td>64871.35271</td>\n",
              "      <td>270.130087</td>\n",
              "      <td>561.401982</td>\n",
              "      <td>12287.34497</td>\n",
              "      <td>272.229078</td>\n",
              "      <td>21.142253</td>\n",
              "      <td>18.609416</td>\n",
              "      <td>697.181100</td>\n",
              "      <td>66726.60260</td>\n",
              "      <td>...</td>\n",
              "      <td>697.110177</td>\n",
              "      <td>69193.52375</td>\n",
              "      <td>269.897449</td>\n",
              "      <td>575.264706</td>\n",
              "      <td>12380.30654</td>\n",
              "      <td>272.226493</td>\n",
              "      <td>21.223976</td>\n",
              "      <td>18.602946</td>\n",
              "      <td>698.950006</td>\n",
              "      <td>28.0</td>\n",
              "    </tr>\n",
              "    <tr>\n",
              "      <th>710</th>\n",
              "      <td>1200.0</td>\n",
              "      <td>75681.51297</td>\n",
              "      <td>270.060472</td>\n",
              "      <td>558.725180</td>\n",
              "      <td>15276.91775</td>\n",
              "      <td>271.317535</td>\n",
              "      <td>22.077146</td>\n",
              "      <td>18.619949</td>\n",
              "      <td>711.038150</td>\n",
              "      <td>75932.53164</td>\n",
              "      <td>...</td>\n",
              "      <td>710.682523</td>\n",
              "      <td>75555.75766</td>\n",
              "      <td>270.219450</td>\n",
              "      <td>563.059551</td>\n",
              "      <td>15331.67330</td>\n",
              "      <td>270.990628</td>\n",
              "      <td>22.069995</td>\n",
              "      <td>18.590591</td>\n",
              "      <td>710.725383</td>\n",
              "      <td>19.0</td>\n",
              "    </tr>\n",
              "  </tbody>\n",
              "</table>\n",
              "<p>709 rows × 34 columns</p>\n",
              "</div>\n",
              "      <button class=\"colab-df-convert\" onclick=\"convertToInteractive('df-c03c113a-c567-4aed-85e7-ae85f2a3c188')\"\n",
              "              title=\"Convert this dataframe to an interactive table.\"\n",
              "              style=\"display:none;\">\n",
              "        \n",
              "  <svg xmlns=\"http://www.w3.org/2000/svg\" height=\"24px\"viewBox=\"0 0 24 24\"\n",
              "       width=\"24px\">\n",
              "    <path d=\"M0 0h24v24H0V0z\" fill=\"none\"/>\n",
              "    <path d=\"M18.56 5.44l.94 2.06.94-2.06 2.06-.94-2.06-.94-.94-2.06-.94 2.06-2.06.94zm-11 1L8.5 8.5l.94-2.06 2.06-.94-2.06-.94L8.5 2.5l-.94 2.06-2.06.94zm10 10l.94 2.06.94-2.06 2.06-.94-2.06-.94-.94-2.06-.94 2.06-2.06.94z\"/><path d=\"M17.41 7.96l-1.37-1.37c-.4-.4-.92-.59-1.43-.59-.52 0-1.04.2-1.43.59L10.3 9.45l-7.72 7.72c-.78.78-.78 2.05 0 2.83L4 21.41c.39.39.9.59 1.41.59.51 0 1.02-.2 1.41-.59l7.78-7.78 2.81-2.81c.8-.78.8-2.07 0-2.86zM5.41 20L4 18.59l7.72-7.72 1.47 1.35L5.41 20z\"/>\n",
              "  </svg>\n",
              "      </button>\n",
              "      \n",
              "  <style>\n",
              "    .colab-df-container {\n",
              "      display:flex;\n",
              "      flex-wrap:wrap;\n",
              "      gap: 12px;\n",
              "    }\n",
              "\n",
              "    .colab-df-convert {\n",
              "      background-color: #E8F0FE;\n",
              "      border: none;\n",
              "      border-radius: 50%;\n",
              "      cursor: pointer;\n",
              "      display: none;\n",
              "      fill: #1967D2;\n",
              "      height: 32px;\n",
              "      padding: 0 0 0 0;\n",
              "      width: 32px;\n",
              "    }\n",
              "\n",
              "    .colab-df-convert:hover {\n",
              "      background-color: #E2EBFA;\n",
              "      box-shadow: 0px 1px 2px rgba(60, 64, 67, 0.3), 0px 1px 3px 1px rgba(60, 64, 67, 0.15);\n",
              "      fill: #174EA6;\n",
              "    }\n",
              "\n",
              "    [theme=dark] .colab-df-convert {\n",
              "      background-color: #3B4455;\n",
              "      fill: #D2E3FC;\n",
              "    }\n",
              "\n",
              "    [theme=dark] .colab-df-convert:hover {\n",
              "      background-color: #434B5C;\n",
              "      box-shadow: 0px 1px 3px 1px rgba(0, 0, 0, 0.15);\n",
              "      filter: drop-shadow(0px 1px 2px rgba(0, 0, 0, 0.3));\n",
              "      fill: #FFFFFF;\n",
              "    }\n",
              "  </style>\n",
              "\n",
              "      <script>\n",
              "        const buttonEl =\n",
              "          document.querySelector('#df-c03c113a-c567-4aed-85e7-ae85f2a3c188 button.colab-df-convert');\n",
              "        buttonEl.style.display =\n",
              "          google.colab.kernel.accessAllowed ? 'block' : 'none';\n",
              "\n",
              "        async function convertToInteractive(key) {\n",
              "          const element = document.querySelector('#df-c03c113a-c567-4aed-85e7-ae85f2a3c188');\n",
              "          const dataTable =\n",
              "            await google.colab.kernel.invokeFunction('convertToInteractive',\n",
              "                                                     [key], {});\n",
              "          if (!dataTable) return;\n",
              "\n",
              "          const docLinkHtml = 'Like what you see? Visit the ' +\n",
              "            '<a target=\"_blank\" href=https://colab.research.google.com/notebooks/data_table.ipynb>data table notebook</a>'\n",
              "            + ' to learn more about interactive tables.';\n",
              "          element.innerHTML = '';\n",
              "          dataTable['output_type'] = 'display_data';\n",
              "          await google.colab.output.renderOutput(dataTable, element);\n",
              "          const docLink = document.createElement('div');\n",
              "          docLink.innerHTML = docLinkHtml;\n",
              "          element.appendChild(docLink);\n",
              "        }\n",
              "      </script>\n",
              "    </div>\n",
              "  </div>\n",
              "  "
            ]
          },
          "metadata": {},
          "execution_count": 21
        }
      ]
    },
    {
      "cell_type": "code",
      "source": [
        "#df.info()\n",
        "filtered_df.info()"
      ],
      "metadata": {
        "colab": {
          "base_uri": "https://localhost:8080/"
        },
        "id": "mkA61HkgfYuu",
        "outputId": "c4b46ea6-ee70-45c5-dc80-992eade8fb34"
      },
      "execution_count": null,
      "outputs": [
        {
          "output_type": "stream",
          "name": "stdout",
          "text": [
            "<class 'pandas.core.frame.DataFrame'>\n",
            "Int64Index: 709 entries, 0 to 710\n",
            "Data columns (total 34 columns):\n",
            " #   Column                                     Non-Null Count  Dtype  \n",
            "---  ------                                     --------------  -----  \n",
            " 0   LABfeed Sulphur                            709 non-null    float64\n",
            " 1   T1 : FRESH FEED FLOW TO KHDS KGPerHour     709 non-null    float64\n",
            " 2   T1 : Reactor inlet temperature DEGC        709 non-null    float64\n",
            " 3   T1 : Hydrogen make-up flow NM3perHour      709 non-null    float64\n",
            " 4   T1 : Recycle hydrogen flow NM3perHour      709 non-null    float64\n",
            " 5   T1 : REACTOR OUTLET Temp DEGC              709 non-null    float64\n",
            " 6   T1 : REACTOR FEED INLET Pressure KGperCM2  709 non-null    float64\n",
            " 7   T1 : Cold separator pressure KGperCM2      709 non-null    float64\n",
            " 8   T1 : KERO FEED DENSITY KGperCM2            709 non-null    float64\n",
            " 9   T2 : FRESH FEED FLOW TO KHDS KGPerHour     709 non-null    float64\n",
            " 10  T2 : Reactor inlet temperature DEGC        709 non-null    float64\n",
            " 11  T2 : Hydrogen make-up flow NM3perHour      709 non-null    float64\n",
            " 12  T2 : Recycle hydrogen flow NM3perHour      709 non-null    float64\n",
            " 13  T2 : REACTOR OUTLET Temp DEGC              709 non-null    float64\n",
            " 14  T2 : REACTOR FEED INLET Pressure KGperCM2  709 non-null    float64\n",
            " 15  T2 : Cold separator pressure KGperCM2      709 non-null    float64\n",
            " 16  T2 : KERO FEED DENSITY KGperCM2            709 non-null    float64\n",
            " 17  T3 : FRESH FEED FLOW TO KHDS KGPerHour     709 non-null    float64\n",
            " 18  T3 : Reactor inlet temperature DEGC        709 non-null    float64\n",
            " 19  T3 : Hydrogen make-up flow NM3perHour      709 non-null    float64\n",
            " 20  T3 : Recycle hydrogen flow NM3perHour      709 non-null    float64\n",
            " 21  T3 : REACTOR OUTLET Temp DEGC              709 non-null    float64\n",
            " 22  T3 : REACTOR FEED INLET Pressure KGperCM2  709 non-null    float64\n",
            " 23  T3 : Cold separator pressure KGperCM2      709 non-null    float64\n",
            " 24  T3 : KERO FEED DENSITY KGperCM2            709 non-null    float64\n",
            " 25  T4 : FRESH FEED FLOW TO KHDS KGPerHour     709 non-null    float64\n",
            " 26  T4 : Reactor inlet temperature DEGC        709 non-null    float64\n",
            " 27  T4 : Hydrogen make-up flow NM3perHour      709 non-null    float64\n",
            " 28  T4 : Recycle hydrogen flow NM3perHour      709 non-null    float64\n",
            " 29  T4 : REACTOR OUTLET Temp DEGC              709 non-null    float64\n",
            " 30  T4 : REACTOR FEED INLET Pressure KGperCM2  709 non-null    float64\n",
            " 31  T4 : Cold separator pressure KGperCM2      709 non-null    float64\n",
            " 32  T4 : KERO FEED DENSITY KGperCM2            709 non-null    float64\n",
            " 33  Product Sulphur                            709 non-null    float64\n",
            "dtypes: float64(34)\n",
            "memory usage: 193.9 KB\n"
          ]
        }
      ]
    },
    {
      "cell_type": "code",
      "source": [
        "target_col = \"Product Sulphur\"\n",
        "X = filtered_df.loc[:, filtered_df.columns != target_col]\n",
        "Y = filtered_df.loc[:, target_col]"
      ],
      "metadata": {
        "id": "84UZMDb8W9vB"
      },
      "execution_count": null,
      "outputs": []
    },
    {
      "cell_type": "markdown",
      "source": [
        "We can **create Keras models** and **evaluate them with scikit-learn** by using handy **wrapper** objects provided by the Keras library. \n",
        "\n",
        "This is desirable, because **scikit-learn excels at evaluating models** and will allow us to use powerful data preparation and model evaluation schemes with very few lines of code."
      ],
      "metadata": {
        "id": "zNPPTJPDXuS_"
      }
    },
    {
      "cell_type": "code",
      "source": [
        "X.shape"
      ],
      "metadata": {
        "colab": {
          "base_uri": "https://localhost:8080/"
        },
        "id": "0epczOQZXA5O",
        "outputId": "0816b54f-87e1-4de7-ab5d-7d56fb2bbeb0"
      },
      "execution_count": null,
      "outputs": [
        {
          "output_type": "execute_result",
          "data": {
            "text/plain": [
              "(709, 33)"
            ]
          },
          "metadata": {},
          "execution_count": 30
        }
      ]
    },
    {
      "cell_type": "code",
      "source": [
        "Y.shape"
      ],
      "metadata": {
        "colab": {
          "base_uri": "https://localhost:8080/"
        },
        "id": "E_kS1HBwYYFn",
        "outputId": "647f2aff-7e19-450b-f012-128fa358231b"
      },
      "execution_count": null,
      "outputs": [
        {
          "output_type": "execute_result",
          "data": {
            "text/plain": [
              "(709,)"
            ]
          },
          "metadata": {},
          "execution_count": 31
        }
      ]
    },
    {
      "cell_type": "code",
      "source": [
        ""
      ],
      "metadata": {
        "id": "K8G4wu2ldJgH"
      },
      "execution_count": null,
      "outputs": []
    },
    {
      "cell_type": "markdown",
      "source": [
        "The network uses good practices such as the **rectifier activation** function for the hidden layer. No activation function is used for the output layer because it is a regression problem and we are interested in predicting numerical values directly without transform.\n",
        "\n",
        "The efficient ADAM optimization algorithm is used and a mean squared error loss function is optimized. This will be the same metric that we will use to evaluate the performance of the model. It is a desirable metric because by taking the square root gives us an error value we can directly understand in the context of the problem"
      ],
      "metadata": {
        "id": "Iny3P1HPZJe-"
      }
    },
    {
      "cell_type": "code",
      "source": [
        "# define base model\n",
        "def baseline_model():\n",
        "\t# create model\n",
        "\tmodel = Sequential()\n",
        "\tmodel.add(Dense(33, input_dim=33, kernel_initializer='normal', activation='relu'))\n",
        "\tmodel.add(Dense(1, kernel_initializer='normal'))\n",
        "\t# Compile model\n",
        "\tmodel.compile(loss='mean_squared_error', optimizer='adam')\n",
        "\treturn model"
      ],
      "metadata": {
        "id": "nm_OWuHnYden"
      },
      "execution_count": null,
      "outputs": []
    },
    {
      "cell_type": "code",
      "source": [
        "# evaluate model\n",
        "estimator = KerasRegressor(build_fn=baseline_model, epochs=100, batch_size=5, verbose=0)\n",
        "kfold = KFold(n_splits=10)\n",
        "results = cross_val_score(estimator, X, Y, cv=kfold, error_score=\"raise\")\n",
        "print(\"Baseline: %.2f (%.2f) MSE\" % (results.mean(), results.std()))"
      ],
      "metadata": {
        "colab": {
          "base_uri": "https://localhost:8080/"
        },
        "id": "nxpkzlb_YsjQ",
        "outputId": "c166f076-4509-4332-fc86-69a3caea87be"
      },
      "execution_count": null,
      "outputs": [
        {
          "output_type": "stream",
          "name": "stderr",
          "text": [
            "/usr/local/lib/python3.7/dist-packages/ipykernel_launcher.py:2: DeprecationWarning: KerasRegressor is deprecated, use Sci-Keras (https://github.com/adriangb/scikeras) instead. See https://www.adriangb.com/scikeras/stable/migration.html for help migrating.\n",
            "  \n"
          ]
        },
        {
          "output_type": "stream",
          "name": "stdout",
          "text": [
            "Baseline: -41.13 (37.20) MSE\n"
          ]
        }
      ]
    },
    {
      "cell_type": "markdown",
      "source": [
        "Pl note above, Baseline mean was coming as nan as there were 2 NULL values in Product Sulphur col. I have to remove that using filtered_df above & bring count from 711 to 709."
      ],
      "metadata": {
        "id": "JxPQAS3qkY2t"
      }
    },
    {
      "cell_type": "markdown",
      "source": [
        "The **input attributes all vary in their scales** because they measure different quantities.\n",
        "\n",
        "It is almost always good practice to prepare your data before modeling it using a neural network model.\n",
        "\n",
        "Continuing on from the above baseline model, we can re-evaluate the same model using a standardized version of the input dataset."
      ],
      "metadata": {
        "id": "ZuApalFtmu6L"
      }
    },
    {
      "cell_type": "code",
      "source": [
        "# evaluate model with standardized dataset\n",
        "estimators = []\n",
        "estimators.append(('standardize', StandardScaler()))\n",
        "estimators.append(('mlp', KerasRegressor(build_fn=baseline_model, epochs=50, batch_size=5, verbose=0)))\n",
        "pipeline = Pipeline(estimators)\n",
        "kfold = KFold(n_splits=10)\n",
        "results = cross_val_score(pipeline, X, Y, cv=kfold)\n",
        "print(\"Standardized: %.2f (%.2f) MSE\" % (results.mean(), results.std()))"
      ],
      "metadata": {
        "colab": {
          "base_uri": "https://localhost:8080/"
        },
        "id": "UnKyXfboamSc",
        "outputId": "a72e08ea-d4ae-4a76-c9f6-904eb7aa17d6"
      },
      "execution_count": null,
      "outputs": [
        {
          "output_type": "stream",
          "name": "stderr",
          "text": [
            "/usr/local/lib/python3.7/dist-packages/ipykernel_launcher.py:4: DeprecationWarning: KerasRegressor is deprecated, use Sci-Keras (https://github.com/adriangb/scikeras) instead. See https://www.adriangb.com/scikeras/stable/migration.html for help migrating.\n",
            "  after removing the cwd from sys.path.\n"
          ]
        },
        {
          "output_type": "stream",
          "name": "stdout",
          "text": [
            "Standardized: -255.29 (716.33) MSE\n"
          ]
        }
      ]
    },
    {
      "cell_type": "markdown",
      "source": [
        "So above, standarlizing the data using Scalar proved very bad. The MSE failed from 41 to 255. This is in line with the output from PYCARET also where no normalization or even transformation of Y did any help. Basic setup gave us best output. Pl check analysis of KHDS for pycaret."
      ],
      "metadata": {
        "id": "nK1MqJAknPBf"
      }
    },
    {
      "cell_type": "markdown",
      "source": [
        "Lets try diff method then. Lets **Tune The Neural Network Topology** using 2 options:::\n",
        " 1.  Evaluate a **Deeper** Network Topology\n",
        " 2. Evaluate a **Wider** Network Topology"
      ],
      "metadata": {
        "id": "qzH4Lof7nerP"
      }
    },
    {
      "cell_type": "code",
      "source": [
        "# define the model\n",
        "def larger_model():\n",
        "\t# create model\n",
        "\tmodel = Sequential()\n",
        "\tmodel.add(Dense(33, input_dim=33, kernel_initializer='normal', activation='relu'))\n",
        "\tmodel.add(Dense(6, kernel_initializer='normal', activation='relu'))\n",
        "\tmodel.add(Dense(1, kernel_initializer='normal'))\n",
        "\t# Compile model\n",
        "\tmodel.compile(loss='mean_squared_error', optimizer='adam')\n",
        "\treturn model"
      ],
      "metadata": {
        "id": "Jd1_1ISunC8G"
      },
      "execution_count": null,
      "outputs": []
    },
    {
      "cell_type": "code",
      "source": [
        "# evaluate model with standardized dataset\n",
        "estimators = []\n",
        "estimators.append(('standardize', StandardScaler()))\n",
        "estimators.append(('mlp', KerasRegressor(build_fn=larger_model, epochs=50, batch_size=5, verbose=0)))\n",
        "pipeline = Pipeline(estimators)\n",
        "kfold = KFold(n_splits=10)\n",
        "results = cross_val_score(pipeline, X, Y, cv=kfold)\n",
        "print(\"Larger: %.2f (%.2f) MSE\" % (results.mean(), results.std()))"
      ],
      "metadata": {
        "colab": {
          "base_uri": "https://localhost:8080/"
        },
        "id": "pM28vjiOn83O",
        "outputId": "c1f0c9ee-df7d-46bd-bf3a-103b40505155"
      },
      "execution_count": null,
      "outputs": [
        {
          "output_type": "stream",
          "name": "stderr",
          "text": [
            "/usr/local/lib/python3.7/dist-packages/ipykernel_launcher.py:4: DeprecationWarning: KerasRegressor is deprecated, use Sci-Keras (https://github.com/adriangb/scikeras) instead. See https://www.adriangb.com/scikeras/stable/migration.html for help migrating.\n",
            "  after removing the cwd from sys.path.\n"
          ]
        },
        {
          "output_type": "stream",
          "name": "stdout",
          "text": [
            "Larger: -496.18 (1446.44) MSE\n"
          ]
        }
      ]
    },
    {
      "cell_type": "code",
      "source": [
        "# evaluate model\n",
        "estimator = KerasRegressor(build_fn=larger_model, epochs=100, batch_size=5, verbose=0)\n",
        "kfold = KFold(n_splits=10)\n",
        "results = cross_val_score(estimator, X, Y, cv=kfold, error_score=\"raise\")\n",
        "print(\"Baseline: %.2f (%.2f) MSE\" % (results.mean(), results.std()))"
      ],
      "metadata": {
        "colab": {
          "base_uri": "https://localhost:8080/"
        },
        "id": "feIHq2E1oEUm",
        "outputId": "63985617-e6c1-4043-f961-71f1026e1dd2"
      },
      "execution_count": null,
      "outputs": [
        {
          "output_type": "stream",
          "name": "stderr",
          "text": [
            "/usr/local/lib/python3.7/dist-packages/ipykernel_launcher.py:2: DeprecationWarning: KerasRegressor is deprecated, use Sci-Keras (https://github.com/adriangb/scikeras) instead. See https://www.adriangb.com/scikeras/stable/migration.html for help migrating.\n",
            "  \n"
          ]
        },
        {
          "output_type": "stream",
          "name": "stdout",
          "text": [
            "Baseline: -20.47 (27.60) MSE\n"
          ]
        }
      ]
    },
    {
      "cell_type": "code",
      "source": [
        ""
      ],
      "metadata": {
        "id": "ZMOOVu9qrb88"
      },
      "execution_count": null,
      "outputs": []
    },
    {
      "cell_type": "markdown",
      "source": [
        "Huge IMPROVEMENT of MSE from 41 to 20!! Amazing just increasing one Deep N/W.\n",
        "Now lets try the WIDER option."
      ],
      "metadata": {
        "id": "582u6ouDpm9Q"
      }
    },
    {
      "cell_type": "code",
      "source": [
        "# define wider model\n",
        "def wider_model():\n",
        "\t# create model\n",
        "\tmodel = Sequential()\n",
        "\tmodel.add(Dense(66, input_dim=33, kernel_initializer='normal', activation='relu'))\n",
        "\tmodel.add(Dense(1, kernel_initializer='normal'))\n",
        "\t# Compile model\n",
        "\tmodel.compile(loss='mean_squared_error', optimizer='adam')\n",
        "\treturn model"
      ],
      "metadata": {
        "id": "pJJ_U7e1pzAX"
      },
      "execution_count": null,
      "outputs": []
    },
    {
      "cell_type": "code",
      "source": [
        "# evaluate model\n",
        "estimator = KerasRegressor(build_fn=wider_model, epochs=100, batch_size=5, verbose=0)\n",
        "kfold = KFold(n_splits=10)\n",
        "results = cross_val_score(estimator, X, Y, cv=kfold, error_score=\"raise\")\n",
        "print(\"Baseline: %.2f (%.2f) MSE\" % (results.mean(), results.std()))"
      ],
      "metadata": {
        "colab": {
          "base_uri": "https://localhost:8080/"
        },
        "id": "gJKJl9frqKb9",
        "outputId": "354a14b1-8592-49ed-a301-20d561d458c5"
      },
      "execution_count": null,
      "outputs": [
        {
          "output_type": "stream",
          "name": "stderr",
          "text": [
            "/usr/local/lib/python3.7/dist-packages/ipykernel_launcher.py:2: DeprecationWarning: KerasRegressor is deprecated, use Sci-Keras (https://github.com/adriangb/scikeras) instead. See https://www.adriangb.com/scikeras/stable/migration.html for help migrating.\n",
            "  \n"
          ]
        },
        {
          "output_type": "stream",
          "name": "stdout",
          "text": [
            "Baseline: -48.21 (45.02) MSE\n"
          ]
        }
      ]
    },
    {
      "cell_type": "markdown",
      "source": [
        "WIder n/w did not perform so well. Lets stick to Deeper N.W"
      ],
      "metadata": {
        "id": "gSpsFrR1rJLA"
      }
    },
    {
      "cell_type": "code",
      "source": [
        "# define the model\n",
        "def larger_model_1():\n",
        "  # create model\n",
        "  model = Sequential()\n",
        "  model.add(Dense(33, input_dim=33, kernel_initializer='normal', activation='relu'))\n",
        "  model.add(Dense(20, kernel_initializer='normal', activation='relu'))\n",
        "  model.add(Dense(9, kernel_initializer='normal', activation='relu'))\n",
        "  model.add(Dense(1, kernel_initializer='normal'))\n",
        "  # Compile model\n",
        "  model.compile(loss='mean_squared_error', optimizer='adam')\n",
        "  return model"
      ],
      "metadata": {
        "id": "xjeNm7-0rOxj"
      },
      "execution_count": null,
      "outputs": []
    },
    {
      "cell_type": "code",
      "source": [
        "# evaluate model - HERE also changed batch_size = 20 from 5\n",
        "estimator = KerasRegressor(build_fn=larger_model_1, epochs=100, batch_size=20, verbose=0)\n",
        "kfold = KFold(n_splits=10)\n",
        "results = cross_val_score(estimator, X, Y, cv=kfold, error_score=\"raise\")\n",
        "print(\"Baseline: %.2f (%.2f) MSE\" % (results.mean(), results.std()))"
      ],
      "metadata": {
        "colab": {
          "base_uri": "https://localhost:8080/"
        },
        "id": "iwcsJngercr0",
        "outputId": "b02c9eb0-76f8-4248-d12e-8bafe3435921"
      },
      "execution_count": null,
      "outputs": [
        {
          "output_type": "stream",
          "name": "stderr",
          "text": [
            "/usr/local/lib/python3.7/dist-packages/ipykernel_launcher.py:2: DeprecationWarning: KerasRegressor is deprecated, use Sci-Keras (https://github.com/adriangb/scikeras) instead. See https://www.adriangb.com/scikeras/stable/migration.html for help migrating.\n",
            "  \n"
          ]
        },
        {
          "output_type": "stream",
          "name": "stdout",
          "text": [
            "Baseline: -20.79 (28.82) MSE\n"
          ]
        }
      ]
    },
    {
      "cell_type": "markdown",
      "source": [
        "No change seen in MSE after adding one more layer in deeper side."
      ],
      "metadata": {
        "id": "4lC29r4WxQbn"
      }
    },
    {
      "cell_type": "code",
      "source": [
        ""
      ],
      "metadata": {
        "id": "FTqdRzdYG8_Y"
      },
      "execution_count": null,
      "outputs": []
    },
    {
      "cell_type": "code",
      "source": [
        ""
      ],
      "metadata": {
        "id": "1IGQx-rLHVjL"
      },
      "execution_count": null,
      "outputs": []
    }
  ]
}